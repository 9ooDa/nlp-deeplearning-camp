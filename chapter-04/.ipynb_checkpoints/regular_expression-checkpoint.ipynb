{
 "cells": [
  {
   "cell_type": "code",
   "execution_count": 1,
   "id": "679cc7d3-c2ee-4292-93ee-6ad0b07ece58",
   "metadata": {},
   "outputs": [
    {
     "data": {
      "text/plain": [
       "'REMOVED'"
      ]
     },
     "execution_count": 1,
     "metadata": {},
     "output_type": "execute_result"
    }
   ],
   "source": [
    "import re\n",
    "\n",
    "regex = r\"([\\w]+\\s*:?\\s*)?\\(?\\+?([0-9]{1,3})?\\-?[0-9]{2,3}(\\)|\\-)?[0-9]{3,4}\\-?[0-9]{4}\"\n",
    "x = \"Ki: +81-10-1234-5678\"\n",
    "\n",
    "# re.sub(pattern, repl, string, count=0, flags=0)\n",
    "re.sub(regex, \"REMOVED\", x) # substitue x with \"REMOVED\" based on regex"
   ]
  },
  {
   "cell_type": "code",
   "execution_count": 2,
   "id": "c233064d-2259-4b40-ab76-377e45deeed1",
   "metadata": {},
   "outputs": [
    {
     "data": {
      "text/plain": [
       "'CONTENT REMOVED'"
      ]
     },
     "execution_count": 2,
     "metadata": {},
     "output_type": "execute_result"
    }
   ],
   "source": [
    "x = \"CONTENT jiu 02)1234-5678\"\n",
    "\n",
    "re.sub(regex, \"REMOVED\", x)"
   ]
  },
  {
   "cell_type": "code",
   "execution_count": 7,
   "id": "1175328c-22ae-4a9c-98f9-33725aa367ae",
   "metadata": {},
   "outputs": [
    {
     "data": {
      "text/plain": [
       "'없a'"
      ]
     },
     "execution_count": 7,
     "metadata": {},
     "output_type": "execute_result"
    }
   ],
   "source": [
    "regex = r\"[0-9]+\"\n",
    "x = \"1a\"\n",
    "\n",
    "re.sub(regex, \"없\" , x)"
   ]
  },
  {
   "cell_type": "code",
   "execution_count": null,
   "id": "a6a1f170-1b1d-4f36-a1ba-ee09b8d34a8d",
   "metadata": {},
   "outputs": [],
   "source": []
  }
 ],
 "metadata": {
  "kernelspec": {
   "display_name": "Python 3 (ipykernel)",
   "language": "python",
   "name": "python3"
  },
  "language_info": {
   "codemirror_mode": {
    "name": "ipython",
    "version": 3
   },
   "file_extension": ".py",
   "mimetype": "text/x-python",
   "name": "python",
   "nbconvert_exporter": "python",
   "pygments_lexer": "ipython3",
   "version": "3.9.7"
  }
 },
 "nbformat": 4,
 "nbformat_minor": 5
}
