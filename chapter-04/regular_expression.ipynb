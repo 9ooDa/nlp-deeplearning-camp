{
 "cells": [
  {
   "cell_type": "code",
   "execution_count": 1,
   "id": "679cc7d3-c2ee-4292-93ee-6ad0b07ece58",
   "metadata": {},
   "outputs": [
    {
     "data": {
      "text/plain": [
       "'REMOVED'"
      ]
     },
     "execution_count": 1,
     "metadata": {},
     "output_type": "execute_result"
    }
   ],
   "source": [
    "import re\n",
    "\n",
    "regex = r\"([\\w]+\\s*:?\\s*)?\\(?\\+?([0-9]{1,3})?\\-?[0-9]{2,3}(\\)|\\-)?[0-9]{3,4}\\-?[0-9]{4}\"\n",
    "x = \"Ki: +81-10-1234-5678\"\n",
    "\n",
    "# re.sub(pattern, repl, string, count=0, flags=0)\n",
    "re.sub(regex, \"REMOVED\", x) # substitue x with \"REMOVED\" based on regex"
   ]
  },
  {
   "cell_type": "code",
   "execution_count": 2,
   "id": "c233064d-2259-4b40-ab76-377e45deeed1",
   "metadata": {},
   "outputs": [
    {
     "data": {
      "text/plain": [
       "'CONTENT REMOVED'"
      ]
     },
     "execution_count": 2,
     "metadata": {},
     "output_type": "execute_result"
    }
   ],
   "source": [
    "x = \"CONTENT jiu 02)1234-5678\"\n",
    "\n",
    "re.sub(regex, \"REMOVED\", x)"
   ]
  },
  {
   "cell_type": "code",
   "execution_count": 7,
   "id": "1175328c-22ae-4a9c-98f9-33725aa367ae",
   "metadata": {},
   "outputs": [
    {
     "data": {
      "text/plain": [
       "'없a'"
      ]
     },
     "execution_count": 7,
     "metadata": {},
     "output_type": "execute_result"
    }
   ],
   "source": [
    "regex = r\"[0-9]+\"\n",
    "x = \"1a\"\n",
    "\n",
    "re.sub(regex, \"없\" , x)"
   ]
  },
  {
   "cell_type": "code",
   "execution_count": 11,
   "id": "a6a1f170-1b1d-4f36-a1ba-ee09b8d34a8d",
   "metadata": {},
   "outputs": [
    {
     "data": {
      "text/plain": [
       "'abcdefg\\n12345\\nab12\\nabcd\\n12ab\\nab\\n1a2\\na1\\n1a\\nhijklmnop'"
      ]
     },
     "execution_count": 11,
     "metadata": {},
     "output_type": "execute_result"
    }
   ],
   "source": [
    "x = '''abcdefg\n",
    "12345\n",
    "ab12\n",
    "a1bc2d\n",
    "12ab\n",
    "a1b\n",
    "1a2\n",
    "a1\n",
    "1a\n",
    "hijklmnop'''\n",
    "\n",
    "regex = r'([a-z])[0-9]+([a-z])'\n",
    "to = r'\\1\\2' # 역참조(backreference) 반복되는 애들을 더 쉽게 찾을 수 있음 (group이 있어야 쓸 수 있음 \\1 = 첫번째 그룹에 refer한다는 뜻)\n",
    "             # \\1 = 첫번째 ([a-z]), \\2 = 두번째 ([a-z])라서 to가 output이 이 패턴으로 나왔으면 좋겠어요~라고 하는 애\n",
    "             # 그래서 중간에 숫자를 없애고 알파벳만 나올 수 있는 거임\n",
    "\n",
    "y = '\\n'.join([re.sub(regex, to, x_i) for x_i in x.split('\\n')]) # use \\n as connector ('\\n'.join)\n",
    "\n",
    "y"
   ]
  },
  {
   "cell_type": "code",
   "execution_count": null,
   "id": "be6cafd5-2fe7-4f27-a32e-bd72f8f3668d",
   "metadata": {},
   "outputs": [],
   "source": []
  }
 ],
 "metadata": {
  "kernelspec": {
   "display_name": "Python 3 (ipykernel)",
   "language": "python",
   "name": "python3"
  },
  "language_info": {
   "codemirror_mode": {
    "name": "ipython",
    "version": 3
   },
   "file_extension": ".py",
   "mimetype": "text/x-python",
   "name": "python",
   "nbconvert_exporter": "python",
   "pygments_lexer": "ipython3",
   "version": "3.9.7"
  }
 },
 "nbformat": 4,
 "nbformat_minor": 5
}
